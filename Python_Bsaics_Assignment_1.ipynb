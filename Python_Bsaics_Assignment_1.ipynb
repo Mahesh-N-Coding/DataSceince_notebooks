{
 "cells": [
  {
   "cell_type": "markdown",
   "id": "d7c4abfb",
   "metadata": {},
   "source": [
    "1. In the below elements which of them are values or an expression? eg:- values can be integer or string and expressions will be mathematical operators.\n",
    "* \n",
    "'hello' }\n",
    "-87.8   } values\n",
    "\n",
    "- } operators\n",
    "/ }\n",
    "\n",
    "\n",
    "6 } -values\n",
    "\n"
   ]
  },
  {
   "cell_type": "markdown",
   "id": "ccec3db7",
   "metadata": {},
   "source": [
    "2. What is the difference between string and variable?\n",
    "\n",
    "Variable is a name that can refer to any value and String is a value representing text"
   ]
  },
  {
   "cell_type": "markdown",
   "id": "873d2fa7",
   "metadata": {},
   "source": [
    "3. Describe three different data types.\n",
    "\n",
    "--Lists, Tuples, Dictionary, Sets, Frozenset\n",
    "\n",
    "List - \n",
    "\n",
    "1. List are mutable\n",
    "2. List can have Heterogeneous elements\n",
    "3. List are ordered\n",
    "4. That can contain duplicate values\n",
    "5. Can have nested Lists\n",
    "\n",
    "Tuples - \n",
    "\n",
    "1. Tuples are immutable\n",
    "2. Tuples can have Heterogeneous elements\n",
    "3. Tuples are ordered\n",
    "4. Tuples can contain duplicate values\n",
    "5. Can have nested Tuples\n",
    "\n",
    "Dictionary - \n",
    "\n",
    "1. Dict are Mutable and Nested as List \n",
    "\n",
    "Set --\n",
    "\n",
    " 1. Sets are Unordered.\n",
    " 2. Only allow unique values\n",
    " \n",
    "Frozenset --\n",
    "\n",
    "1. It is just a set but can not modify it after once created.\n",
    "2. So it's used as key's in Dict or as another set \n"
   ]
  },
  {
   "cell_type": "code",
   "execution_count": 6,
   "id": "c71e0d4a",
   "metadata": {},
   "outputs": [
    {
     "name": "stdout",
     "output_type": "stream",
     "text": [
      "[2, 'Mahesh', 4, 'Shiva', True]\n",
      "[2, 'Mahesh', 4, 'Shiva', True, 100]\n",
      "[2, 'Rajesh', 4, 'Shiva', True, 100]\n",
      "[2, 'Rajesh', 'Rajesh', 'Shiva', True, 100]\n"
     ]
    }
   ],
   "source": [
    "#List\n",
    "List =[2,'Mahesh',4,'Shiva',True]\n",
    "print(List)\n",
    "List.append(100)\n",
    "print(List)\n",
    "\n",
    "List[1]='Rajesh'\n",
    "print(List)\n",
    "\n",
    "List[2]='Rajesh'\n",
    "print(List)"
   ]
  },
  {
   "cell_type": "code",
   "execution_count": 63,
   "id": "45de7b58",
   "metadata": {},
   "outputs": [
    {
     "name": "stdout",
     "output_type": "stream",
     "text": [
      "(2, 'Shiva', 'Deepak', True)\n",
      "(3, 5, 'Rajesh', 'Rajesh')\n",
      "5\n"
     ]
    },
    {
     "ename": "AttributeError",
     "evalue": "'tuple' object has no attribute 'append'",
     "output_type": "error",
     "traceback": [
      "\u001b[0;31m---------------------------------------------------------------------------\u001b[0m",
      "\u001b[0;31mAttributeError\u001b[0m                            Traceback (most recent call last)",
      "\u001b[0;32m/var/folders/0_/0yxqtbsd1qj_yfl0gnmkfc540000gn/T/ipykernel_42323/2948245697.py\u001b[0m in \u001b[0;36m<module>\u001b[0;34m\u001b[0m\n\u001b[1;32m      9\u001b[0m \u001b[0mprint\u001b[0m\u001b[0;34m(\u001b[0m\u001b[0mTp\u001b[0m\u001b[0;34m[\u001b[0m\u001b[0;36m1\u001b[0m\u001b[0;34m]\u001b[0m\u001b[0;34m)\u001b[0m\u001b[0;34m\u001b[0m\u001b[0;34m\u001b[0m\u001b[0m\n\u001b[1;32m     10\u001b[0m \u001b[0;34m\u001b[0m\u001b[0m\n\u001b[0;32m---> 11\u001b[0;31m \u001b[0mTp\u001b[0m\u001b[0;34m.\u001b[0m\u001b[0mappend\u001b[0m\u001b[0;34m(\u001b[0m\u001b[0;36m10\u001b[0m\u001b[0;34m)\u001b[0m \u001b[0;31m# immutable , can not edit\u001b[0m\u001b[0;34m\u001b[0m\u001b[0;34m\u001b[0m\u001b[0m\n\u001b[0m\u001b[1;32m     12\u001b[0m \u001b[0mprint\u001b[0m\u001b[0;34m(\u001b[0m\u001b[0mTp\u001b[0m\u001b[0;34m)\u001b[0m\u001b[0;34m\u001b[0m\u001b[0;34m\u001b[0m\u001b[0m\n\u001b[1;32m     13\u001b[0m \u001b[0mTp\u001b[0m\u001b[0;34m[\u001b[0m\u001b[0;36m1\u001b[0m\u001b[0;34m]\u001b[0m\u001b[0;34m=\u001b[0m\u001b[0;36m10\u001b[0m\u001b[0;34m\u001b[0m\u001b[0;34m\u001b[0m\u001b[0m\n",
      "\u001b[0;31mAttributeError\u001b[0m: 'tuple' object has no attribute 'append'"
     ]
    }
   ],
   "source": [
    "#Tuple\n",
    "\n",
    "Tp=(2,'Shiva','Deepak',True)\n",
    "print(Tp)\n",
    "\n",
    "Tp=(3,5,'Rajesh','Rajesh')\n",
    "print(Tp)\n",
    "\n",
    "print(Tp[1])\n",
    "\n",
    "Tp.append(10) # immutable , can not edit\n",
    "print(Tp)\n",
    "Tp[1]=10\n",
    "\n"
   ]
  },
  {
   "cell_type": "code",
   "execution_count": 21,
   "id": "39e4de16",
   "metadata": {},
   "outputs": [
    {
     "name": "stdout",
     "output_type": "stream",
     "text": [
      "{'A': 'Mahesh', 'AB': 'Shiva', 'C': 'Deepak'}\n",
      "Mahesh\n",
      "{'A': 'Anita', 'AB': 'Shiva', 'C': 'Deepak'}\n"
     ]
    }
   ],
   "source": [
    "#Dictionary\n",
    "\n",
    "Dict={'A':'Mahesh', \"AB\":'Shiva', \"C\":'Deepak'}\n",
    "print(Dict)\n",
    "\n",
    "print(Dict['A'])\n",
    "\n",
    "Dict['A']='Anita'\n",
    "print(Dict)"
   ]
  },
  {
   "cell_type": "code",
   "execution_count": 59,
   "id": "1133607f",
   "metadata": {},
   "outputs": [
    {
     "name": "stdout",
     "output_type": "stream",
     "text": [
      "{1, 'Good', 2, 'Chitra', 'Mahesh'}\n",
      "{1, 2, 'Mahesh'}\n",
      "{100000, 1, 2, 'Mahesh'}\n",
      "{1, 2, 'Mahesh'}\n"
     ]
    }
   ],
   "source": [
    "#Sets\n",
    "\n",
    "Set={1,2,'Mahesh','Chitra','Good'}\n",
    "print(Set)\n",
    "\n",
    "Set={1,2,1,'Mahesh'} # Can not have duplicate elements\n",
    "print(Set)\n",
    "\n",
    "Set.add(100000)\n",
    "print(Set)\n",
    "\n",
    "Set.remove(100000)\n",
    "print(Set)\n",
    "\n",
    "#Set[1]=4 #It is unordered so item assignment does not support"
   ]
  },
  {
   "cell_type": "code",
   "execution_count": 57,
   "id": "aa6bd27a",
   "metadata": {},
   "outputs": [
    {
     "name": "stdout",
     "output_type": "stream",
     "text": [
      "frozenset({3, 'Chitra', 6, 'Mahesh'})\n",
      "frozenset({10, 3, 'Chitra', 'Mahesh'})\n"
     ]
    },
    {
     "ename": "AttributeError",
     "evalue": "'frozenset' object has no attribute 'add'",
     "output_type": "error",
     "traceback": [
      "\u001b[0;31m---------------------------------------------------------------------------\u001b[0m",
      "\u001b[0;31mAttributeError\u001b[0m                            Traceback (most recent call last)",
      "\u001b[0;32m/var/folders/0_/0yxqtbsd1qj_yfl0gnmkfc540000gn/T/ipykernel_42323/2000834289.py\u001b[0m in \u001b[0;36m<module>\u001b[0;34m\u001b[0m\n\u001b[1;32m      8\u001b[0m \u001b[0mprint\u001b[0m\u001b[0;34m(\u001b[0m\u001b[0mFrozen\u001b[0m\u001b[0;34m)\u001b[0m\u001b[0;34m\u001b[0m\u001b[0;34m\u001b[0m\u001b[0m\n\u001b[1;32m      9\u001b[0m \u001b[0;34m\u001b[0m\u001b[0m\n\u001b[0;32m---> 10\u001b[0;31m \u001b[0mFrozen\u001b[0m\u001b[0;34m.\u001b[0m\u001b[0madd\u001b[0m\u001b[0;34m(\u001b[0m\u001b[0;36m1\u001b[0m\u001b[0;34m)\u001b[0m \u001b[0;31m# Can not edit it - immutable\u001b[0m\u001b[0;34m\u001b[0m\u001b[0;34m\u001b[0m\u001b[0m\n\u001b[0m\u001b[1;32m     11\u001b[0m \u001b[0mprint\u001b[0m\u001b[0;34m(\u001b[0m\u001b[0mFrozen\u001b[0m\u001b[0;34m[\u001b[0m\u001b[0;36m1\u001b[0m\u001b[0;34m]\u001b[0m\u001b[0;34m)\u001b[0m \u001b[0;31m# Unordered\u001b[0m\u001b[0;34m\u001b[0m\u001b[0;34m\u001b[0m\u001b[0m\n",
      "\u001b[0;31mAttributeError\u001b[0m: 'frozenset' object has no attribute 'add'"
     ]
    }
   ],
   "source": [
    "#Frozenset\n",
    "\n",
    "#It is immutable set once created\n",
    "\n",
    "Frozen =frozenset({3,6,'Mahesh','Chitra'})\n",
    "print(Frozen)\n",
    "Frozen=frozenset({3,10,'Mahesh','Chitra'})\n",
    "print(Frozen)\n",
    "\n",
    "Frozen.add(1) # Can not edit it - immutable\n",
    "print(Frozen[1]) # Unordered, so can not indexed"
   ]
  },
  {
   "cell_type": "code",
   "execution_count": null,
   "id": "f5f55979",
   "metadata": {},
   "outputs": [],
   "source": [
    "4. What is an expression made up of? What do all expressions do?\n",
    "\n",
    "A combination of operands and operators is called an expression\n",
    "\n",
    "Expression represents the value\n",
    "\n",
    "ex: x= 5*2+a --expression \n"
   ]
  },
  {
   "cell_type": "code",
   "execution_count": null,
   "id": "3669ce36",
   "metadata": {},
   "outputs": [],
   "source": [
    "5. This assignment statements, like spam = 10. What is the difference between an expression and a statement?\n",
    "\n",
    "spam =10 --> 10 is the expression and spam=10 is the statement."
   ]
  },
  {
   "cell_type": "code",
   "execution_count": 66,
   "id": "0b305569",
   "metadata": {},
   "outputs": [
    {
     "data": {
      "text/plain": [
       "23"
      ]
     },
     "execution_count": 66,
     "metadata": {},
     "output_type": "execute_result"
    }
   ],
   "source": [
    "# 6. After running the following code, what does the variable bacon contain?\n",
    "bacon = 22\n",
    "bacon + 1\n"
   ]
  },
  {
   "cell_type": "code",
   "execution_count": 75,
   "id": "9028eccc",
   "metadata": {},
   "outputs": [
    {
     "data": {
      "text/plain": [
       "'spamspamspam'"
      ]
     },
     "execution_count": 75,
     "metadata": {},
     "output_type": "execute_result"
    }
   ],
   "source": [
    "#7. What should the values of the following two terms be?\n",
    "'spam' + 'spamspam'\n",
    "'spam' * 3\n"
   ]
  },
  {
   "cell_type": "code",
   "execution_count": null,
   "id": "87eda264",
   "metadata": {},
   "outputs": [],
   "source": [
    "8. Why is eggs a valid variable name while 100 is invalid?\n",
    "\n",
    "Variable name should not start with any number so 100 is invalid"
   ]
  },
  {
   "cell_type": "code",
   "execution_count": null,
   "id": "28173067",
   "metadata": {},
   "outputs": [],
   "source": [
    "9. What three functions can be used to get the integer, floating-point number, or string version of a value?\n",
    "\n",
    "int(),float(),str()"
   ]
  },
  {
   "cell_type": "code",
   "execution_count": 77,
   "id": "a47e3858",
   "metadata": {},
   "outputs": [
    {
     "data": {
      "text/plain": [
       "'I have eaten 99 burritos.'"
      ]
     },
     "execution_count": 77,
     "metadata": {},
     "output_type": "execute_result"
    }
   ],
   "source": [
    "#10. Why does this expression cause an error? How can you fix it?\n",
    "'I have eaten ' + '99' + ' burritos.'\n"
   ]
  },
  {
   "cell_type": "code",
   "execution_count": null,
   "id": "356bbc4e",
   "metadata": {},
   "outputs": [],
   "source": []
  }
 ],
 "metadata": {
  "kernelspec": {
   "display_name": "Python 3 (ipykernel)",
   "language": "python",
   "name": "python3"
  },
  "language_info": {
   "codemirror_mode": {
    "name": "ipython",
    "version": 3
   },
   "file_extension": ".py",
   "mimetype": "text/x-python",
   "name": "python",
   "nbconvert_exporter": "python",
   "pygments_lexer": "ipython3",
   "version": "3.9.13"
  }
 },
 "nbformat": 4,
 "nbformat_minor": 5
}
